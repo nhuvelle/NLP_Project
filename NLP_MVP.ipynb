{
 "cells": [
  {
   "cell_type": "markdown",
   "id": "5a44307e",
   "metadata": {},
   "source": [
    "## NLP MVP"
   ]
  },
  {
   "cell_type": "markdown",
   "id": "5ded1793",
   "metadata": {},
   "source": [
    "The goal of this project is to use topic modelling and other NLP techniques to investiage what people on \n",
    "Bitcoin Twitter have been tweeting about this summer. I pulled the top 200 Bitcoin Twitter acounts from \n",
    "[Hive.one](https://hive.one/c/Bitcoin?page=1). \n",
    "\n",
    "Below is a list of topics that are not far removed from my baseline model. The topics look a bit murky, \n",
    "especially to someone with no experience in this corner of the Twitter-sphere. I plan to further investiage \n",
    "my documents and models to come up with clearer topics. Perhaps doing some cluster analysis could show\n",
    "that there AREN'T many discrete topics here to begin with. Or perhaps there are and I need to tinker more. "
   ]
  },
  {
   "cell_type": "code",
   "execution_count": 8,
   "id": "77a3c119",
   "metadata": {},
   "outputs": [
    {
     "name": "stderr",
     "output_type": "stream",
     "text": [
      "/opt/anaconda3/lib/python3.8/site-packages/sklearn/decomposition/_nmf.py:312: FutureWarning: The 'init' value, when 'init=None' and n_components is less than n_samples and n_features, will be changed from 'nndsvd' to 'nndsvda' in 1.1 (renaming of 0.26).\n",
      "  warnings.warn((\"The 'init' value, when 'init=None' and \"\n"
     ]
    },
    {
     "name": "stdout",
     "output_type": "stream",
     "text": [
      "Topic 0:\n",
      " HTTPS, READ, GOING, GREAT, CHECK, LIVE, BULLISH, GOT, DID, WATCH, THREAD, STARTED, ENERGY, BTC, DAY \n",
      "\n",
      "Topic 1:\n",
      " BITCOIN, FIXES, MONEY, BUY, WORLD, DIGITAL, TIME, FIAT, REAL, ENERGY, STANDARD, MINING, FUTURE, ESTATE, YEARS \n",
      "\n",
      "Topic 2:\n",
      " YES, EXACTLY, ANSWER, HELL, AH, PROBABLY, FREE, OPTION, AGO, ZERO, OK, BLOCKED, WORKING, KEY, DID \n",
      "\n",
      "Topic 3:\n",
      " LOL, NICE, DID, OH, EXACTLY, REKT, REAL, TALK, SHIT, TWEETS, TWEET, LOVE, LITERALLY, SORRY, TRUE \n",
      "\n",
      "Topic 4:\n",
      " DON, GOOD, JUST, LIKE, PEOPLE, KNOW, THINK, TIME, WANT, RIGHT, NEED, THANKS, MAKE, REALLY, WORK \n",
      "\n",
      "Topic 5:\n",
      " THANK, SIR, LEADERSHIP, APPRECIATE, BROTHER, WOW, LOVE, SHARING, SUPPORT, GOD, WORK, AWWWWW, AWW, COMMUNITY, APPRECIATED \n",
      "\n"
     ]
    }
   ],
   "source": [
    "#Baseline Topics"
   ]
  }
 ],
 "metadata": {
  "kernelspec": {
   "display_name": "Python 3",
   "language": "python",
   "name": "python3"
  },
  "language_info": {
   "codemirror_mode": {
    "name": "ipython",
    "version": 3
   },
   "file_extension": ".py",
   "mimetype": "text/x-python",
   "name": "python",
   "nbconvert_exporter": "python",
   "pygments_lexer": "ipython3",
   "version": "3.8.8"
  }
 },
 "nbformat": 4,
 "nbformat_minor": 5
}
