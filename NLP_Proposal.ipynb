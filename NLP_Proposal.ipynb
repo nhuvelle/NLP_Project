{
 "cells": [
  {
   "cell_type": "markdown",
   "id": "f82a41c8",
   "metadata": {},
   "source": [
    "# NLP Project Proposal"
   ]
  },
  {
   "cell_type": "markdown",
   "id": "ca3523de",
   "metadata": {},
   "source": [
    "For this project I will be pulling tweets from 1000 or more twitter accounts associated with 'Bitcoin Twitter' and doing some topic modeling. Perhaps I will expand into the wider Crypto Twitter space and compare topics among the groups. Finding subjects they have in common outside of Crypto and doing some visualizations are some of the things I am looking to create. That's about it. The tools I will be using are Twitter API and Tweepy to gather the data. Pandas/Numpy/NLTK and other packages we have used this week for NLP. Perhaps an MVP would be a document-term matrix of the Corpus and a visualization. "
   ]
  }
 ],
 "metadata": {
  "kernelspec": {
   "display_name": "Python 3",
   "language": "python",
   "name": "python3"
  },
  "language_info": {
   "codemirror_mode": {
    "name": "ipython",
    "version": 3
   },
   "file_extension": ".py",
   "mimetype": "text/x-python",
   "name": "python",
   "nbconvert_exporter": "python",
   "pygments_lexer": "ipython3",
   "version": "3.8.8"
  }
 },
 "nbformat": 4,
 "nbformat_minor": 5
}
